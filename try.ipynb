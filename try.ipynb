import pandas as pd
iris = pd.read_csv("https://ninjasfiles.s3.amazonaws.com/attachment4870b27d69764921197f1332f41aaf1cb5b.csv")
iris

del iris['Pclass']
iris.head()

del iris['Parch']
iris.head()