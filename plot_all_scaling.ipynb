
    {
      "cell_type": "markdown",
      "metadata": {},
      "source": [
        "Two plots will be shown for each scaler/normalizer/transformer. The left\nfigure will show a scatter plot of the full data set while the right figure\nwill exclude the extreme values considering only 99 % of the data set,\nexcluding marginal outliers. In addition, the marginal distributions for each\nfeature will be shown on the side of the scatter plot.\n\n"
      ]
    },
    {
      "cell_type": "code",
      "execution_count": null,
      "metadata": {
        "collapsed": false
      },
      "outputs": [],
      "source": [
        "def make_plot(item_idx):\n    title, X = distributions[item_idx]\n    ax_zoom_out, ax_zoom_in, ax_colorbar = create_axes(title)\n    axarr = (ax_zoom_out, ax_zoom_in)\n    plot_distribution(axarr[0], X, y, hist_nbins=200,\n                      x0_label=\"Median Income\",\n                      x1_label=\"Number of households\",\n                      title=\"Full data\")\n\n    # zoom-in\n    zoom_in_percentile_range = (0, 99)\n    cutoffs_X0 = np.percentile(X[:, 0], zoom_in_percentile_range)\n    cutoffs_X1 = np.percentile(X[:, 1], zoom_in_percentile_range)\n\n    non_outliers_mask = (\n        np.all(X > [cutoffs_X0[0], cutoffs_X1[0]], axis=1) &\n        np.all(X < [cutoffs_X0[1], cutoffs_X1[1]], axis=1))\n    plot_distribution(axarr[1], X[non_outliers_mask], y[non_outliers_mask],\n                      hist_nbins=50,\n                      x0_label=\"Median Income\",\n                      x1_label=\"Number of households\",\n                      title=\"Zoom-in\")\n\n    norm = mpl.colors.Normalize(y_full.min(), y_full.max())\n    mpl.colorbar.ColorbarBase(ax_colorbar, cmap=cm.plasma_r,\n                              norm=norm, orientation='vertical',\n                              label='Color mapping for values of y')"
      ]
    },
    {
      "cell_type": "markdown",
      "metadata": {},
      "source": [
        "\nOriginal data\n-------------\n\nEach transformation is plotted showing two transformed features, with the\nleft plot showing the entire dataset, and the right zoomed-in to show the\ndataset without the marginal outliers. A large majority of the samples are\ncompacted to a specific range, [0, 10] for the median income and [0, 6] for\nthe number of households. Note that there are some marginal outliers (some\nblocks have more than 1200 households). Therefore, a specific pre-processing\ncan be very beneficial depending of the application. In the following, we\npresent some insights and behaviors of those pre-processing methods in the\npresence of marginal outliers.\n\n"
      ]
    },
    {
      "cell_type": "code",
      "execution_count": null,
      "metadata": {
        "collapsed": false
      },
      "outputs": [],
      "source": [
        "make_plot(0)"
      ]
    },
    {
      "cell_type": "markdown",
      "metadata": {},
      "source": [
        "StandardScaler\n--------------\n\n``StandardScaler`` removes the mean and scales the data to unit variance.\nHowever, the outliers have an influence when computing the empirical mean and\nstandard deviation which shrink the range of the feature values as shown in\nthe left figure below. Note in particular that because the outliers on each\nfeature have different magnitudes, the spread of the transformed data on\neach feature is very different: most of the data lie in the [-2, 4] range for\nthe transformed median income feature while the same data is squeezed in the\nsmaller [-0.2, 0.2] range for the transformed number of households.\n\n``StandardScaler`` therefore cannot guarantee balanced feature scales in the\npresence of outliers.\n\n"
      ]
    },
    {
      "cell_type": "code",
      "execution_count": null,
      "metadata": {
        "collapsed": false
      },
      "outputs": [],
      "source": [
        "make_plot(1)"
      ]
    },
    {
      "cell_type": "markdown",
      "metadata": {},
      "source": [
        "MinMaxScaler\n------------\n\n``MinMaxScaler`` rescales the data set such that all feature values are in\nthe range [0, 1] as shown in the right panel below. However, this scaling\ncompress all inliers in the narrow range [0, 0.005] for the transformed\nnumber of households.\n\nAs ``StandardScaler``, ``MinMaxScaler`` is very sensitive to the presence of\noutliers.\n\n"
      ]
    },
    {
      "cell_type": "code",
      "execution_count": null,
      "metadata": {
        "collapsed": false
      },
      "outputs": [],
      "source": [
        "make_plot(2)"
      ]
    },
    {
      "cell_type": "markdown",
      "metadata": {},
      "source": [
        "MaxAbsScaler\n------------\n\n``MaxAbsScaler`` differs from the previous scaler such that the absolute\nvalues are mapped in the range [0, 1]. On positive only data, this scaler\nbehaves similarly to ``MinMaxScaler`` and therefore also suffers from the\npresence of large outliers.\n\n"
      ]
    },
    {
      "cell_type": "code",
      "execution_count": null,
      "metadata": {
        "collapsed": false
      },
      "outputs": [],
      "source": [
        "make_plot(3)"
      ]
    },
    {
      "cell_type": "markdown",
      "metadata": {},
      "source": [
        "RobustScaler\n------------\n\nUnlike the previous scalers, the centering and scaling statistics of this\nscaler are based on percentiles and are therefore not influenced by a few\nnumber of very large marginal outliers. Consequently, the resulting range of\nthe transformed feature values is larger than for the previous scalers and,\nmore importantly, are approximately similar: for both features most of the\ntransformed values lie in a [-2, 3] range as seen in the zoomed-in figure.\nNote that the outliers themselves are still present in the transformed data.\nIf a separate outlier clipping is desirable, a non-linear transformation is\nrequired (see below).\n\n"
      ]
    },
    {
      "cell_type": "code",
      "execution_count": null,
      "metadata": {
        "collapsed": false
      },
      "outputs": [],
      "source": [
        "make_plot(4)"
      ]
    },
    {
      "cell_type": "markdown",
      "metadata": {},
      "source": [
        "QuantileTransformer (uniform output)\n------------------------------------\n\n``QuantileTransformer`` applies a non-linear transformation such that the\nprobability density function of each feature will be mapped to a uniform\ndistribution. In this case, all the data will be mapped in the range [0, 1],\neven the outliers which cannot be distinguished anymore from the inliers.\n\nAs ``RobustScaler``, ``QuantileTransformer`` is robust to outliers in the\nsense that adding or removing outliers in the training set will yield\napproximately the same transformation on held out data. But contrary to\n``RobustScaler``, ``QuantileTransformer`` will also automatically collapse\nany outlier by setting them to the a priori defined range boundaries (0 and\n1).\n\n"
      ]
    },
    {
      "cell_type": "code",
      "execution_count": null,
      "metadata": {
        "collapsed": false
      },
      "outputs": [],
      "source": [
        "make_plot(5)"
      ]
    },
    {
      "cell_type": "markdown",
      "metadata": {},
      "source": [
        "QuantileTransformer (Gaussian output)\n-------------------------------------\n\n``QuantileTransformer`` has an additional ``output_distribution`` parameter\nallowing to match a Gaussian distribution instead of a uniform distribution.\nNote that this non-parametetric transformer introduces saturation artifacts\nfor extreme values.\n\n"
      ]
    },
    {
      "cell_type": "code",
      "execution_count": null,
      "metadata": {
        "collapsed": false
      },
      "outputs": [],
      "source": [
        "make_plot(6)"
      ]
    },
    {
      "cell_type": "markdown",
      "metadata": {},
      "source": [
        "Normalizer\n----------\n\nThe ``Normalizer`` rescales the vector for each sample to have unit norm,\nindependently of the distribution of the samples. It can be seen on both\nfigures below where all samples are mapped onto the unit circle. In our\nexample the two selected features have only positive values; therefore the\ntransformed data only lie in the positive quadrant. This would not be the\ncase if some original features had a mix of positive and negative values.\n\n"
      ]
    },
    {
      "cell_type": "code",
      "execution_count": null,
      "metadata": {
        "collapsed": false
      },
      "outputs": [],
      "source": [
        "make_plot(7)\nplt.show()"
      ]
    }
  ],
  "metadata": {
    "kernelspec": {
      "display_name": "Python 3",
      "language": "python",
      "name": "python3"
    },
    "language_info": {
      "codemirror_mode": {
        "name": "ipython",
        "version": 3
      },
      "file_extension": ".py",
      "mimetype": "text/x-python",
      "name": "python",
      "nbconvert_exporter": "python",
      "pygments_lexer": "ipython3",
      "version": "3.6.3"
    }
  },
  "nbformat": 4,
  "nbformat_minor": 0
}
